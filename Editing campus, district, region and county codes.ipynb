{
 "cells": [
  {
   "cell_type": "code",
   "execution_count": 43,
   "metadata": {},
   "outputs": [],
   "source": [
    "import pandas as pd"
   ]
  },
  {
   "cell_type": "code",
   "execution_count": 46,
   "metadata": {},
   "outputs": [],
   "source": [
    "files = [\"accountability.csv\",\n",
    "         'reference.csv',\n",
    "         \"longitudinal-rate.csv\", \n",
    "         \"postsecondary-readiness-and-non-staar-performance-indicators.csv\",\n",
    "         \"staff-and-student-information.csv\",\n",
    "         \"attendance.csv\",\n",
    "         \"testing.csv\"]\n",
    "level = 'district'\n",
    "#                 \"accountability.csv\",\n",
    "#                 \"reference.csv\",\n",
    "#                 \"longitudinal-rate.csv\",\n",
    "#                 \"postsecondary-readiness-and-non-staar-performance-indicators.csv\",\n",
    "#                 \"staff-and-student-information.csv\",\n",
    "#                 \"attendance.csv\",\n",
    "#                 \"testing.csv\"\n"
   ]
  },
  {
   "cell_type": "code",
   "execution_count": 47,
   "metadata": {},
   "outputs": [],
   "source": [
    "for file in files:\n",
    "    data = pd.read_csv('./tapr/2020-2021/' + level + '/' + file)\n",
    "#     data[level.upper()] = data[level.upper()].apply(lambda x: str(x).replace(\"'\", '').zfill(9))\n",
    "#     data[level.upper()] = data[level.upper()].astype(str)\n",
    "    \n",
    "    data['DISTRICT'] = data['DISTRICT'].apply(lambda x: str(x).replace(\"'\", '').zfill(6))\n",
    "    data['DISTRICT'] = data['DISTRICT'].astype(str)\n",
    "    \n",
    "    data['COUNTY'] = data['COUNTY'].apply(lambda x: str(x).replace(\"'\", '').zfill(3))\n",
    "    data['COUNTY'] = data['COUNTY'].astype(str)\n",
    "    \n",
    "    data['REGION'] = data['REGION'].apply(lambda x: str(x).replace(\"'\", '').zfill(2))\n",
    "    data['REGION'] = data['REGION'].astype(str)\n",
    "    \n",
    "#     data['GRDSPAN'] = data['GRDSPAN'].apply(lambda x: str(x).replace(\"'\", ''))\n",
    "#     data['GRDSPAN'] = data['GRDSPAN'].astype(str)\n",
    "    \n",
    "    data.to_csv('./tapr/2020-2021/' + level + '/' + file, index=False)"
   ]
  },
  {
   "cell_type": "code",
   "execution_count": null,
   "metadata": {},
   "outputs": [],
   "source": []
  }
 ],
 "metadata": {
  "kernelspec": {
   "display_name": "Python 3 (ipykernel)",
   "language": "python",
   "name": "python3"
  },
  "language_info": {
   "codemirror_mode": {
    "name": "ipython",
    "version": 3
   },
   "file_extension": ".py",
   "mimetype": "text/x-python",
   "name": "python",
   "nbconvert_exporter": "python",
   "pygments_lexer": "ipython3",
   "version": "3.9.6"
  }
 },
 "nbformat": 4,
 "nbformat_minor": 2
}
