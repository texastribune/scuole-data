{
 "cells": [
  {
   "cell_type": "code",
   "execution_count": 1,
   "metadata": {},
   "outputs": [],
   "source": [
    "# import libraries you might need\n",
    "import pandas as pd\n",
    "import os.path"
   ]
  },
  {
   "cell_type": "code",
   "execution_count": 6,
   "metadata": {},
   "outputs": [],
   "source": [
    "# set variables -- change years as needed\n",
    "\n",
    "school_year = '2021-2022'\n",
    "\n",
    "levels = [\n",
    "  \"campus\",\n",
    "  \"district\",\n",
    "  \"region\",\n",
    "  \"state\"\n",
    "]\n",
    "\n",
    "files = [\n",
    "  \"accountability.csv\",\n",
    "  \"reference.csv\",\n",
    "  \"longitudinal-rate.csv\", \n",
    "  \"postsecondary-readiness-and-non-staar-performance-indicators.csv\",\n",
    "  \"staff-and-student-information.csv\",\n",
    "  \"attendance.csv\"\n",
    "]\n",
    "\n",
    "columns = [\n",
    "  \"DISTRICT\",\n",
    "  \"COUNTY\",\n",
    "  \"REGION\",\n",
    "  \"CAMPUS\"\n",
    "]"
   ]
  },
  {
   "cell_type": "code",
   "execution_count": 8,
   "metadata": {},
   "outputs": [
    {
     "name": "stderr",
     "output_type": "stream",
     "text": [
      "/var/folders/nf/4ypsd96x5nj6_k62wnwkzw7h0000gp/T/ipykernel_75002/1485189840.py:9: DtypeWarning: Columns (1,6,9,10,12,14,15,20,23,24,26,28,29,34,37,38,40,42,43,48,51,52,54,56,57,62,65,66,68,70,71,76,79,80,82,84,85,86,89,90,101,102,103,104,107,108,109,111,117,118,120,121,122,125,126,137,138,139,140,143,144,145,147,153,154,156) have mixed types. Specify dtype option on import or set low_memory=False.\n",
      "  data = pd.read_csv(path)\n"
     ]
    }
   ],
   "source": [
    "for level in levels:\n",
    "  for file in files:\n",
    "\n",
    "    # set the data path    \n",
    "    path = \"./tapr/\" + school_year + \"/\" + level + \"/\" + file\n",
    "    \n",
    "    # check if the file exists and proceed only if it does\n",
    "    if os.path.exists(path):\n",
    "        data = pd.read_csv(path)\n",
    "\n",
    "        # see if the data has 'DISTRICT', 'COUNTY' or 'REGION' column\n",
    "        s = pd.Series(columns).isin(data.columns)\n",
    "        indexes = list(s[s].index)\n",
    "        columns_to_edit = [columns[i] for i in indexes]\n",
    "\n",
    "        print(level, file, \":\", columns_to_edit)\n",
    "\n",
    "        # if the data has the column(s), get rid of the apostrophes\n",
    "        if len(columns_to_edit) > 0:\n",
    "            for column in columns_to_edit:\n",
    "              data[column] = data[column].apply(lambda x: str(x).replace(\"'\", ''))\n",
    "              data[column] = data[column].astype(str)\n",
    "\n",
    "            # update the data\n",
    "            data.to_csv(path, index = False)"
   ]
  }
 ],
 "metadata": {
  "kernelspec": {
   "display_name": "base",
   "language": "python",
   "name": "python3"
  },
  "language_info": {
   "codemirror_mode": {
    "name": "ipython",
    "version": 3
   },
   "file_extension": ".py",
   "mimetype": "text/x-python",
   "name": "python",
   "nbconvert_exporter": "python",
   "pygments_lexer": "ipython3",
   "version": "3.8.13"
  },
  "orig_nbformat": 4,
  "vscode": {
   "interpreter": {
    "hash": "dc1e2c700fb496221f94fb1345e6c752f11d6212efcd9921d7ad3291be61da80"
   }
  }
 },
 "nbformat": 4,
 "nbformat_minor": 2
}
