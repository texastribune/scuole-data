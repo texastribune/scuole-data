{
 "cells": [
  {
   "cell_type": "code",
   "execution_count": 41,
   "metadata": {},
   "outputs": [],
   "source": [
    "# import libraries you might need\n",
    "import pandas as pd\n",
    "import os.path"
   ]
  },
  {
   "cell_type": "code",
   "execution_count": 6,
   "metadata": {},
   "outputs": [],
   "source": [
    "# set variables -- change years as needed\n",
    "\n",
    "school_year = '2021-2022'\n",
    "\n",
    "levels = [\n",
    "  \"campus\",\n",
    "  \"district\",\n",
    "  \"region\",\n",
    "  \"state\"\n",
    "]\n",
    "\n",
    "files = [\n",
    "  \"accountability.csv\",\n",
    "  \"reference.csv\",\n",
    "  \"longitudinal-rate.csv\", \n",
    "  \"postsecondary-readiness-and-non-staar-performance-indicators.csv\",\n",
    "  \"staff-and-student-information.csv\",\n",
    "  \"attendance.csv\"\n",
    "]\n",
    "\n",
    "columns = [\n",
    "  \"DISTRICT\",\n",
    "  \"COUNTY\",\n",
    "  \"REGION\"\n",
    "]"
   ]
  },
  {
   "cell_type": "code",
   "execution_count": 44,
   "metadata": {},
   "outputs": [
    {
     "name": "stdout",
     "output_type": "stream",
     "text": [
      "campus\n",
      "accountability.csv\n",
      "['DISTRICT', 'COUNTY', 'REGION']\n",
      "campus\n",
      "reference.csv\n",
      "['DISTRICT', 'COUNTY', 'REGION']\n",
      "campus\n",
      "longitudinal-rate.csv\n",
      "['DISTRICT']\n",
      "campus\n",
      "postsecondary-readiness-and-non-staar-performance-indicators.csv\n",
      "['DISTRICT']\n",
      "campus\n",
      "staff-and-student-information.csv\n",
      "['DISTRICT']\n",
      "campus\n",
      "attendance.csv\n",
      "['DISTRICT']\n",
      "district\n",
      "accountability.csv\n",
      "['DISTRICT', 'COUNTY', 'REGION']\n",
      "district\n",
      "reference.csv\n",
      "['DISTRICT', 'COUNTY', 'REGION']\n",
      "district\n",
      "longitudinal-rate.csv\n",
      "['DISTRICT']\n",
      "district\n",
      "postsecondary-readiness-and-non-staar-performance-indicators.csv\n",
      "['DISTRICT']\n",
      "district\n",
      "staff-and-student-information.csv\n",
      "['DISTRICT']\n",
      "district\n",
      "attendance.csv\n"
     ]
    },
    {
     "name": "stderr",
     "output_type": "stream",
     "text": [
      "/var/folders/nf/4ypsd96x5nj6_k62wnwkzw7h0000gp/T/ipykernel_22157/3493458276.py:10: DtypeWarning: Columns (1,6,9,10,12,14,15,20,23,24,26,28,29,34,37,38,40,42,43,48,51,52,54,56,57,62,65,66,68,70,71,76,79,80,82,84,85,86,89,90,101,102,103,104,107,108,109,111,117,118,120,121,122,125,126,137,138,139,140,143,144,145,147,153,154,156) have mixed types. Specify dtype option on import or set low_memory=False.\n",
      "  data = pd.read_csv(path)\n"
     ]
    },
    {
     "name": "stdout",
     "output_type": "stream",
     "text": [
      "['DISTRICT']\n",
      "region\n",
      "accountability.csv\n",
      "region\n",
      "reference.csv\n",
      "['REGION']\n",
      "region\n",
      "longitudinal-rate.csv\n",
      "['REGION']\n",
      "region\n",
      "postsecondary-readiness-and-non-staar-performance-indicators.csv\n",
      "['REGION']\n",
      "region\n",
      "staff-and-student-information.csv\n",
      "['REGION']\n",
      "region\n",
      "attendance.csv\n",
      "['REGION']\n",
      "state\n",
      "accountability.csv\n",
      "state\n",
      "reference.csv\n",
      "state\n",
      "longitudinal-rate.csv\n",
      "[]\n",
      "state\n",
      "postsecondary-readiness-and-non-staar-performance-indicators.csv\n",
      "[]\n",
      "state\n",
      "staff-and-student-information.csv\n",
      "[]\n",
      "state\n",
      "attendance.csv\n",
      "[]\n"
     ]
    }
   ],
   "source": [
    "for level in levels:\n",
    "  for file in files:\n",
    "\n",
    "    # set the data path    \n",
    "    path = \"./tapr/\" + school_year + \"/\" + level + \"/\" + file\n",
    "    \n",
    "    # check if the file exists and proceed only if it does\n",
    "    if os.path.exists(path):\n",
    "        data = pd.read_csv(path)\n",
    "\n",
    "        # see if the data has 'DISTRICT', 'COUNTY' or 'REGION' column\n",
    "        s = pd.Series(columns).isin(data.columns)\n",
    "        indexes = list(s[s].index)\n",
    "        columns_to_edit = [columns[i] for i in indexes]\n",
    "\n",
    "        # if the data has the column(s), get rid of the apostrophes\n",
    "        if len(columns_to_edit) > 0:\n",
    "            for column in columns_to_edit:\n",
    "              data[column] = data[column].apply(lambda x: str(x).replace(\"'\", ''))\n",
    "              data[column] = data[column].astype(str)\n",
    "\n",
    "            # update the data\n",
    "            data.to_csv(path, index = False)"
   ]
  }
 ],
 "metadata": {
  "kernelspec": {
   "display_name": "base",
   "language": "python",
   "name": "python3"
  },
  "language_info": {
   "codemirror_mode": {
    "name": "ipython",
    "version": 3
   },
   "file_extension": ".py",
   "mimetype": "text/x-python",
   "name": "python",
   "nbconvert_exporter": "python",
   "pygments_lexer": "ipython3",
   "version": "3.8.13"
  },
  "orig_nbformat": 4,
  "vscode": {
   "interpreter": {
    "hash": "dc1e2c700fb496221f94fb1345e6c752f11d6212efcd9921d7ad3291be61da80"
   }
  }
 },
 "nbformat": 4,
 "nbformat_minor": 2
}
