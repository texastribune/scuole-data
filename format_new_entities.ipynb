{
 "cells": [
  {
   "cell_type": "code",
   "execution_count": 1,
   "metadata": {},
   "outputs": [],
   "source": [
    "# import libraries you might need\n",
    "import pandas as pd;\n",
    "import numpy as np;\n",
    "import math;\n",
    "import re; # regex"
   ]
  },
  {
   "cell_type": "markdown",
   "metadata": {},
   "source": [
    "# Format new campus and district entity names\n",
    "\n",
    "In `scuole-data`, we have an `entities.csv` file at the district and county level that contains details used to create District and County models. Each year, we need to update it because districts and schools can get renamed/removed/added.\n",
    "\n",
    "Here's the data we're looking at:\n",
    "- a new entities file for districts, use the newest district `reference.csv` and rename it to `entities_district.csv`\n",
    "- a new entities file for campuses, use the newest campus `reference.csv` and rename it to `entities_campus.csv`\n",
    "\n",
    "Put the files at the same level as this notebook. We take the campus and district names from these files and format them. The formatted names are in the column `XX_CLEAN`"
   ]
  },
  {
   "cell_type": "code",
   "execution_count": 12,
   "metadata": {},
   "outputs": [],
   "source": [
    "# initial format of the reference files\n",
    "level = 'campus'\n",
    "\n",
    "if level == 'campus':\n",
    "    # edit the reference file\n",
    "    reference_edited_rating = pd.read_csv('entities_campus.csv')\n",
    "\n",
    "    # fill in zeros for ID\n",
    "    reference_edited_rating['CAMPUS'] = reference_edited_rating['CAMPUS'].apply(lambda x: str(x).replace(\"'\", '').zfill(9))\n",
    "    reference_edited_rating['DISTRICT'] = reference_edited_rating['DISTRICT'].apply(lambda x: str(x).replace(\"'\", '').zfill(6))\n",
    "    reference_edited_rating['COUNTY'] = reference_edited_rating['COUNTY'].apply(lambda x: str(x).replace(\"'\", ''))\n",
    "    reference_edited_rating['REGION'] = reference_edited_rating['REGION'].apply(lambda x: str(x).replace(\"'\", ''))\n",
    "    reference_edited_rating['GRDSPAN'] = reference_edited_rating['GRDSPAN'].apply(lambda x: str(x).replace(\"'\", ''))\n",
    "    reference_edited_rating.to_csv('entities_campus.csv', index=False)\n",
    "elif level == 'district':\n",
    "    # edit the reference file\n",
    "    reference_edited_rating = pd.read_csv('entities_district.csv')\n",
    "    \n",
    "    # fill in zeros for ID\n",
    "    reference_edited_rating['DISTRICT'] = reference_edited_rating['DISTRICT'].apply(lambda x: str(x).replace(\"'\", '').zfill(6))\n",
    "    reference_edited_rating['COUNTY'] = reference_edited_rating['COUNTY'].apply(lambda x: str(x).replace(\"'\", ''))\n",
    "    reference_edited_rating['REGION'] = reference_edited_rating['REGION'].apply(lambda x: str(x).replace(\"'\", ''))\n",
    "    reference_edited_rating.to_csv('entities_district.csv', index=False)"
   ]
  },
  {
   "cell_type": "code",
   "execution_count": 13,
   "metadata": {},
   "outputs": [],
   "source": [
    "# If the name is MCKINLEY\n",
    "# We want to make sure McKinley is shown\n",
    "def uppercase_mc(name_portion):\n",
    "    mc_re = r'(?i)\\b(?P<mc>ma?c)(?!hin)(?P<first_letter>\\w)\\w+'\n",
    "    matches = re.search(mc_re, name_portion)\n",
    "\n",
    "    if matches:\n",
    "        mc = matches.group('mc')\n",
    "        first_letter = matches.group('first_letter')\n",
    "        return re.sub(mc + first_letter, mc.title() + first_letter.upper(), name_portion)\n",
    "    else:\n",
    "        return name_portion"
   ]
  },
  {
   "cell_type": "code",
   "execution_count": 35,
   "metadata": {},
   "outputs": [],
   "source": [
    "# DISTRICT ENTITIES\n",
    "# read district files\n",
    "entities_district = pd.read_csv('entities_district.csv')\n",
    "\n",
    "# add the modified name in column 'DISTNAME_CLEAN'\n",
    "# correct district names with 'Mc' in them (i.e. Mckinley -> McKinley)\n",
    "entities_district['DISTNAME_CLEAN'] = entities_district['DISTNAME'].apply(lambda x: re.sub('\\s+Isd*(?!.)', ' ISD', x.title()))\n",
    "entities_district['DISTNAME_CLEAN'] = entities_district['DISTNAME_CLEAN'].apply(lambda x: re.sub('\\s+Cisd*(?!.)', ' CISD', x))\n",
    "entities_district['DISTNAME_CLEAN'] = entities_district['DISTNAME_CLEAN'].apply(lambda x: re.sub('\\s+Csd*(?!.)', ' CSD', x))\n",
    "entities_district['DISTNAME_CLEAN'] = entities_district['DISTNAME_CLEAN'].apply(lambda x: re.sub('\\s+Llc*(?!.)', ' LLC', x))\n",
    "entities_district['DISTNAME_CLEAN'] = entities_district['DISTNAME_CLEAN'].apply(lambda x: re.sub(\"'S\", \"'s\", x)) # needs to come after title casing\n",
    "entities_district['DISTNAME_CLEAN'] = entities_district['DISTNAME_CLEAN'].apply(lambda x: uppercase_mc(x))\n",
    "\n",
    "# get rid of apostrophes in front of COUTY and REGION columns\n",
    "entities_district['COUNTY'] = entities_district['COUNTY'].apply(lambda x: re.sub(\"'\", \"\", x))\n",
    "entities_district['REGION'] = entities_district['REGION'].apply(lambda x: re.sub(\"'\", \"\", x))\n",
    "                         \n",
    "# NEED TO FORMAT THE COUNTY AND REGION\n",
    "entities_district['COUNTY'] = entities_district['COUNTY'].astype(int)\n",
    "entities_district['REGION'] = entities_district['REGION'].astype(int)\n",
    "\n",
    "entities_district = entities_district.drop(columns=['D_RATING'])\n",
    "\n",
    "# write to a CSV\n",
    "entities_district.head()\n",
    "entities_district.to_csv('entities_district_edited.csv', index=False)"
   ]
  },
  {
   "cell_type": "code",
   "execution_count": 36,
   "metadata": {},
   "outputs": [],
   "source": [
    "# CAMPUS ENTITIES\n",
    "# read campus files\n",
    "entities_campus = pd.read_csv('entities_campus.csv')\n",
    "\n",
    "# for campuses with no modified name, add the modified name in column 'CAMPNAME_CLEAN'\n",
    "# do a bunch of replacements for abbreviated campus names\n",
    "entities_campus['CAMPNAME_CLEAN'] = entities_campus['CAMPNAME'].apply(lambda x: re.sub('\\s+H S*(?!.)', ' High School', x))\n",
    "entities_campus['CAMPNAME_CLEAN'] = entities_campus['CAMPNAME_CLEAN'].apply(lambda x: re.sub('\\s+J H*(?!.)', ' Junior High', x))\n",
    "entities_campus['CAMPNAME_CLEAN'] = entities_campus['CAMPNAME_CLEAN'].apply(lambda x: re.sub('\\s+EL*(?!.)', ' Elementary School', x))\n",
    "entities_campus['CAMPNAME_CLEAN'] = entities_campus['CAMPNAME_CLEAN'].apply(lambda x: re.sub('\\s+PRI*(?!.)', ' Primary School', x))\n",
    "entities_campus['CAMPNAME_CLEAN'] = entities_campus['CAMPNAME_CLEAN'].apply(lambda x: re.sub('\\s+LRN CTR*(?!.)', ' Learning Center', x))\n",
    "entities_campus['CAMPNAME_CLEAN'] = entities_campus['CAMPNAME_CLEAN'].apply(lambda x: re.sub('\\s+DETENT CTR*(?!.)', ' Detention Center', x))\n",
    "entities_campus['CAMPNAME_CLEAN'] = entities_campus['CAMPNAME_CLEAN'].apply(lambda x: re.sub('\\s+EDUC CTR*(?!.)', ' Education Center', x))\n",
    "entities_campus['CAMPNAME_CLEAN'] = entities_campus['CAMPNAME_CLEAN'].apply(lambda x: re.sub('\\s+MIDDLE*(?!.)', ' Middle School', x))\n",
    "entities_campus['CAMPNAME_CLEAN'] = entities_campus['CAMPNAME_CLEAN'].apply(lambda x: re.sub('\\s+INT*(?!.)', ' Intermediate School', x))\n",
    "entities_campus['CAMPNAME_CLEAN'] = entities_campus['CAMPNAME_CLEAN'].apply(lambda x: re.sub('\\s+AEC*(?!.)', ' Alternative Education Center', x))\n",
    "entities_campus['CAMPNAME_CLEAN'] = entities_campus['CAMPNAME_CLEAN'].apply(lambda x: re.sub('\\s+JUSTICE C*(?!.)', ' Justice Center', x))\n",
    "entities_campus['CAMPNAME_CLEAN'] = entities_campus['CAMPNAME_CLEAN'].apply(lambda x: re.sub('\\s+CTR*(?!.)', ' Center', x))\n",
    "entities_campus['CAMPNAME_CLEAN'] = entities_campus['CAMPNAME_CLEAN'].apply(lambda x: re.sub('\\s+CEN*(?!.)', ' Center', x))\n",
    "\n",
    "# title case everything\n",
    "# excluse JJAEP, DAEP, PK-8, J J A E P\n",
    "entities_campus['CAMPNAME_CLEAN'] = entities_campus['CAMPNAME_CLEAN'].apply(lambda x: x.title().replace('Jjaep', 'JJAEP').replace('Daep', 'DAEP').replace('Pk-8', 'PK-8').replace('Pk - 8', 'PK-8').replace('J J A E P', 'JJAEP'))\n",
    "\n",
    "# replace 'S with 's\n",
    "# needs to come after title casing\n",
    "entities_campus['CAMPNAME_CLEAN'] = entities_campus['CAMPNAME_CLEAN'].apply(lambda x: re.sub(\"'S\", \"'s\", x))\n",
    "\n",
    "# correct campus names with 'Mc' in them (i.e. Mckinley -> McKinley)\n",
    "entities_campus['CAMPNAME_CLEAN'] = entities_campus['CAMPNAME_CLEAN'].apply(lambda x: uppercase_mc(x))\n",
    "\n",
    "# NEED TO FORMAT THE COUNTY AND REGION\n",
    "entities_campus['COUNTY'] = entities_campus['COUNTY'].astype(int)\n",
    "entities_campus['DISTRICT'] = entities_campus['DISTRICT'].astype(int)\n",
    "\n",
    "entities_campus = entities_campus.drop(columns=['C_RATING'])\n",
    "\n",
    "# write to a CSV\n",
    "entities_campus.to_csv('entities_campus_edited.csv', index=False)"
   ]
  },
  {
   "cell_type": "code",
   "execution_count": 25,
   "metadata": {},
   "outputs": [],
   "source": [
    "# helpful to read about python apply lambda functions, iloc, and loc"
   ]
  },
  {
   "cell_type": "markdown",
   "metadata": {},
   "source": [
    "Once you've generated these edited entities for campuses and districts, put each in its respective folder in the corresponding TAPR year folder, and rename each to just `entities.csv`."
   ]
  },
  {
   "cell_type": "code",
   "execution_count": null,
   "metadata": {},
   "outputs": [],
   "source": []
  }
 ],
 "metadata": {
  "kernelspec": {
   "display_name": "Python 3",
   "language": "python",
   "name": "python3"
  },
  "language_info": {
   "codemirror_mode": {
    "name": "ipython",
    "version": 3
   },
   "file_extension": ".py",
   "mimetype": "text/x-python",
   "name": "python",
   "nbconvert_exporter": "python",
   "pygments_lexer": "ipython3",
   "version": "3.10.7 (v3.10.7:6cc6b13308, Sep  5 2022, 14:02:52) [Clang 13.0.0 (clang-1300.0.29.30)]"
  },
  "vscode": {
   "interpreter": {
    "hash": "aee8b7b246df8f9039afb4144a1f6fd8d2ca17a180786b69acc140d282b71a49"
   }
  }
 },
 "nbformat": 4,
 "nbformat_minor": 4
}
