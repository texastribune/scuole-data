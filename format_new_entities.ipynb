{
 "cells": [
  {
   "cell_type": "code",
   "execution_count": 33,
   "metadata": {},
   "outputs": [],
   "source": [
    "# import libraries you might need\n",
    "import pandas as pd;\n",
    "import numpy as np;\n",
    "import math;\n",
    "import re; # regex\n",
    "import os;"
   ]
  },
  {
   "attachments": {},
   "cell_type": "markdown",
   "metadata": {},
   "source": [
    "# Format new campus and district entity names\n",
    "\n",
    "In `scuole-data`, we have an `entities.csv` file at the district and county level that contains details used to create District and County models. Each year, we need to update it because districts and schools can get renamed/removed/added.\n",
    "\n",
    "Change the year variable to the latest school year you are adding the data about.\n",
    "\n",
    "We take the campus and district names from these files and format them. The formatted names are in the column `XX_CLEAN`"
   ]
  },
  {
   "cell_type": "code",
   "execution_count": 23,
   "metadata": {},
   "outputs": [],
   "source": [
    "year = '2021-2022'\n",
    "path = './tapr/' + year + \"/\""
   ]
  },
  {
   "cell_type": "code",
   "execution_count": 46,
   "metadata": {},
   "outputs": [],
   "source": [
    "# initial format of the reference files\n",
    "\n",
    "# CAMPUS\n",
    "level = 'campus'\n",
    "\n",
    "# set the file path\n",
    "file = path + level + '/reference.csv'\n",
    "new_file = path + level + '/entities_' + level + '.csv'\n",
    "\n",
    "# edit the reference file\n",
    "reference_edited_rating = pd.read_csv(file)\n",
    "\n",
    "# fill in zeros for ID\n",
    "reference_edited_rating['CAMPUS'] = reference_edited_rating['CAMPUS'].apply(lambda x: str(x).replace(\"'\", '').zfill(9))\n",
    "reference_edited_rating['DISTRICT'] = reference_edited_rating['DISTRICT'].apply(lambda x: str(x).replace(\"'\", '').zfill(6))\n",
    "reference_edited_rating['COUNTY'] = reference_edited_rating['COUNTY'].apply(lambda x: str(x).replace(\"'\", ''))\n",
    "reference_edited_rating['REGION'] = reference_edited_rating['REGION'].apply(lambda x: str(x).replace(\"'\", ''))\n",
    "reference_edited_rating['GRDSPAN'] = reference_edited_rating['GRDSPAN'].apply(lambda x: str(x).replace(\"'\", ''))\n",
    "\n",
    "reference_edited_rating.to_csv(new_file, index=False)\n",
    "\n",
    "# DISTRICT\n",
    "level = 'district'\n",
    "# set the file path\n",
    "file = path + level + '/reference.csv'\n",
    "new_file = path + level + '/entities_' + level + '.csv'\n",
    "\n",
    "# edit the reference file\n",
    "reference_edited_rating = pd.read_csv(file)\n",
    "\n",
    "# fill in zeros for ID\n",
    "reference_edited_rating['DISTRICT'] = reference_edited_rating['DISTRICT'].apply(lambda x: str(x).replace(\"'\", '').zfill(6))\n",
    "reference_edited_rating['COUNTY'] = reference_edited_rating['COUNTY'].apply(lambda x: str(x).replace(\"'\", ''))\n",
    "reference_edited_rating['REGION'] = reference_edited_rating['REGION'].apply(lambda x: str(x).replace(\"'\", ''))\n",
    "\n",
    "reference_edited_rating.to_csv(new_file, index=False)"
   ]
  },
  {
   "cell_type": "code",
   "execution_count": 42,
   "metadata": {},
   "outputs": [],
   "source": [
    "# If the name is MCKINLEY\n",
    "# We want to make sure McKinley is shown\n",
    "def uppercase_mc(name_portion):\n",
    "    mc_re = r'(?i)\\b(?P<mc>ma?c)(?!hin)(?P<first_letter>\\w)\\w+'\n",
    "    matches = re.search(mc_re, name_portion)\n",
    "\n",
    "    if matches:\n",
    "        mc = matches.group('mc')\n",
    "        first_letter = matches.group('first_letter')\n",
    "        return re.sub(mc + first_letter, mc.title() + first_letter.upper(), name_portion)\n",
    "    else:\n",
    "        return name_portion"
   ]
  },
  {
   "cell_type": "code",
   "execution_count": 47,
   "metadata": {},
   "outputs": [],
   "source": [
    "# DISTRICT ENTITIES\n",
    "level = 'district'\n",
    "file = path + level + '/entities_' + level + '.csv'\n",
    "new_file = path + level + '/entities.csv'\n",
    "\n",
    "# read district files\n",
    "entities_district = pd.read_csv(file)\n",
    "\n",
    "# add the modified name in column 'DISTNAME_CLEAN'\n",
    "# correct district names with 'Mc' in them (i.e. Mckinley -> McKinley)\n",
    "entities_district['DISTNAME_CLEAN'] = entities_district['DISTNAME'].apply(lambda x: re.sub('\\s+Isd*(?!.)', ' ISD', x.title()))\n",
    "entities_district['DISTNAME_CLEAN'] = entities_district['DISTNAME_CLEAN'].apply(lambda x: re.sub('\\s+Cisd*(?!.)', ' CISD', x))\n",
    "entities_district['DISTNAME_CLEAN'] = entities_district['DISTNAME_CLEAN'].apply(lambda x: re.sub('\\s+Csd*(?!.)', ' CSD', x))\n",
    "entities_district['DISTNAME_CLEAN'] = entities_district['DISTNAME_CLEAN'].apply(lambda x: re.sub('\\s+Llc*(?!.)', ' LLC', x))\n",
    "entities_district['DISTNAME_CLEAN'] = entities_district['DISTNAME_CLEAN'].apply(lambda x: re.sub(\"'S\", \"'s\", x)) # needs to come after title casing\n",
    "entities_district['DISTNAME_CLEAN'] = entities_district['DISTNAME_CLEAN'].apply(lambda x: uppercase_mc(x))\n",
    "                         \n",
    "# NEED TO FORMAT DISTRICT, COUNTY AND REGION\n",
    "entities_district['DISTRICT'] = entities_district['DISTRICT'].astype(int)\n",
    "entities_district['COUNTY'] = entities_district['COUNTY'].astype(int)\n",
    "entities_district['REGION'] = entities_district['REGION'].astype(int)\n",
    "\n",
    "entities_district = entities_district.drop(columns=['D_RATING'])\n",
    "\n",
    "# write to a CSV\n",
    "entities_district.to_csv(new_file, index=False)\n",
    "\n",
    "# delete old file\n",
    "os.remove(file)"
   ]
  },
  {
   "cell_type": "code",
   "execution_count": 48,
   "metadata": {},
   "outputs": [],
   "source": [
    "# CAMPUS ENTITIES\n",
    "level = 'campus'\n",
    "file = path + level + '/entities_' + level + '.csv'\n",
    "new_file = path + level + '/entities.csv'\n",
    "\n",
    "# read campus files\n",
    "entities_campus = pd.read_csv(file)\n",
    "\n",
    "# for campuses with no modified name, add the modified name in column 'CAMPNAME_CLEAN'\n",
    "# do a bunch of replacements for abbreviated campus names\n",
    "entities_campus['CAMPNAME_CLEAN'] = entities_campus['CAMPNAME'].apply(lambda x: re.sub('\\s+H S*(?!.)', ' High School', x))\n",
    "entities_campus['CAMPNAME_CLEAN'] = entities_campus['CAMPNAME_CLEAN'].apply(lambda x: re.sub('\\s+J H*(?!.)', ' Junior High', x))\n",
    "entities_campus['CAMPNAME_CLEAN'] = entities_campus['CAMPNAME_CLEAN'].apply(lambda x: re.sub('\\s+EL*(?!.)', ' Elementary School', x))\n",
    "entities_campus['CAMPNAME_CLEAN'] = entities_campus['CAMPNAME_CLEAN'].apply(lambda x: re.sub('\\s+PRI*(?!.)', ' Primary School', x))\n",
    "entities_campus['CAMPNAME_CLEAN'] = entities_campus['CAMPNAME_CLEAN'].apply(lambda x: re.sub('\\s+LRN CTR*(?!.)', ' Learning Center', x))\n",
    "entities_campus['CAMPNAME_CLEAN'] = entities_campus['CAMPNAME_CLEAN'].apply(lambda x: re.sub('\\s+DETENT CTR*(?!.)', ' Detention Center', x))\n",
    "entities_campus['CAMPNAME_CLEAN'] = entities_campus['CAMPNAME_CLEAN'].apply(lambda x: re.sub('\\s+EDUC CTR*(?!.)', ' Education Center', x))\n",
    "entities_campus['CAMPNAME_CLEAN'] = entities_campus['CAMPNAME_CLEAN'].apply(lambda x: re.sub('\\s+MIDDLE*(?!.)', ' Middle School', x))\n",
    "entities_campus['CAMPNAME_CLEAN'] = entities_campus['CAMPNAME_CLEAN'].apply(lambda x: re.sub('\\s+INT*(?!.)', ' Intermediate School', x))\n",
    "entities_campus['CAMPNAME_CLEAN'] = entities_campus['CAMPNAME_CLEAN'].apply(lambda x: re.sub('\\s+AEC*(?!.)', ' Alternative Education Center', x))\n",
    "entities_campus['CAMPNAME_CLEAN'] = entities_campus['CAMPNAME_CLEAN'].apply(lambda x: re.sub('\\s+JUSTICE C*(?!.)', ' Justice Center', x))\n",
    "entities_campus['CAMPNAME_CLEAN'] = entities_campus['CAMPNAME_CLEAN'].apply(lambda x: re.sub('\\s+CTR*(?!.)', ' Center', x))\n",
    "entities_campus['CAMPNAME_CLEAN'] = entities_campus['CAMPNAME_CLEAN'].apply(lambda x: re.sub('\\s+CEN*(?!.)', ' Center', x))\n",
    "\n",
    "# title case everything\n",
    "# excluse JJAEP, DAEP, PK-8, J J A E P\n",
    "entities_campus['CAMPNAME_CLEAN'] = entities_campus['CAMPNAME_CLEAN'].apply(lambda x: x.title().replace('Jjaep', 'JJAEP').replace('Daep', 'DAEP').replace('Pk-8', 'PK-8').replace('Pk - 8', 'PK-8').replace('J J A E P', 'JJAEP'))\n",
    "\n",
    "# replace 'S with 's\n",
    "# needs to come after title casing\n",
    "entities_campus['CAMPNAME_CLEAN'] = entities_campus['CAMPNAME_CLEAN'].apply(lambda x: re.sub(\"'S\", \"'s\", x))\n",
    "\n",
    "# correct campus names with 'Mc' in them (i.e. Mckinley -> McKinley)\n",
    "entities_campus['CAMPNAME_CLEAN'] = entities_campus['CAMPNAME_CLEAN'].apply(lambda x: uppercase_mc(x))\n",
    "\n",
    "# NEED TO FORMAT THE COUNTY AND REGION\n",
    "entities_campus['COUNTY'] = entities_campus['COUNTY'].astype(int)\n",
    "entities_campus['DISTRICT'] = entities_campus['DISTRICT'].astype(int)\n",
    "\n",
    "entities_campus = entities_campus.drop(columns=['C_RATING'])\n",
    "\n",
    "# write to a CSV\n",
    "entities_campus.to_csv(new_file, index=False)\n",
    "\n",
    "# delete old file\n",
    "os.remove(file)"
   ]
  }
 ],
 "metadata": {
  "kernelspec": {
   "display_name": "Python 3",
   "language": "python",
   "name": "python3"
  },
  "language_info": {
   "codemirror_mode": {
    "name": "ipython",
    "version": 3
   },
   "file_extension": ".py",
   "mimetype": "text/x-python",
   "name": "python",
   "nbconvert_exporter": "python",
   "pygments_lexer": "ipython3",
   "version": "3.10.7"
  },
  "vscode": {
   "interpreter": {
    "hash": "aee8b7b246df8f9039afb4144a1f6fd8d2ca17a180786b69acc140d282b71a49"
   }
  }
 },
 "nbformat": 4,
 "nbformat_minor": 2
}
