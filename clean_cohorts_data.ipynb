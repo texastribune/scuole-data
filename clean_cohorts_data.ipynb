{
 "cells": [
  {
   "cell_type": "markdown",
   "id": "e6e254e0",
   "metadata": {},
   "source": [
    "<h1>Cleaning the cohorts data</h1>\n",
    "<p>This is a notebook that will take the four spreadsheets for the cohorts years and takes out asterisk and formats the columns</p>"
   ]
  },
  {
   "cell_type": "code",
   "execution_count": 127,
   "id": "fd8fa30c",
   "metadata": {},
   "outputs": [],
   "source": [
    "import pandas as pd\n",
    "import os.path\n",
    "from pandas.api.types import is_string_dtype\n",
    "pd.set_option('display.max_columns', None)"
   ]
  },
  {
   "cell_type": "code",
   "execution_count": 128,
   "id": "efba0e10",
   "metadata": {},
   "outputs": [],
   "source": [
    "school_year = '2010'\n",
    "\n",
    "files = [\n",
    "  \"regionState.csv\",\n",
    "  \"countyGender.csv\",\n",
    "  \"countyEthnicity.csv\", \n",
    "  \"countyEcon.csv\"\n",
    "]\n",
    "\n",
    "cols_list_asterisk = [\n",
    " 'Region Code',\n",
    " 'enrolled_8th',\n",
    " 'enrolled_9th',\n",
    " 'enrolled_9th_percent',\n",
    " 'enrolled_10th',\n",
    " 'enrolled_10th_percent',\n",
    " 'lessthan_10th_enrolled',\n",
    " 'lessthan_10th_enrolled_percent',\n",
    " 'graduated',\n",
    " 'graduated_percent',\n",
    " 'enrolled_4yr',\n",
    " 'enrolled_4yr_percent',\n",
    " 'enrolled_2yr',\n",
    " 'enrolled_2yr_percent',\n",
    " 'total_enrolled',\n",
    " 'total_enrolled_percent',\n",
    " 'enrolled_wo_record',\n",
    " 'enrolled_wo_record_percent',\n",
    " 'enrolled_wo_record_per',\n",
    " 'total_degrees',\n",
    " 'total_degrees_percent']\n",
    "\n",
    "cols_to_round = ['enrolled_8th', 'enrolled_9th','enrolled_10th', 'graduated','total_enrolled']\n"
   ]
  },
  {
   "cell_type": "code",
   "execution_count": 129,
   "id": "e16b4f95",
   "metadata": {},
   "outputs": [
    {
     "name": "stdout",
     "output_type": "stream",
     "text": [
      "Loop starting...\n",
      "FILE | [COLUMNS] ... to edit\n",
      "regionState.csv : ['Region Code', 'enrolled_8th', 'enrolled_9th', 'enrolled_9th_percent', 'enrolled_10th', 'enrolled_10th_percent', 'lessthan_10th_enrolled', 'lessthan_10th_enrolled_percent', 'graduated', 'graduated_percent', 'enrolled_4yr', 'enrolled_4yr_percent', 'enrolled_2yr', 'enrolled_2yr_percent', 'total_enrolled', 'total_enrolled_percent', 'enrolled_wo_record', 'enrolled_wo_record_per', 'total_degrees', 'total_degrees_percent']\n",
      "countyGender.csv : ['Region Code', 'enrolled_8th', 'enrolled_9th', 'enrolled_9th_percent', 'enrolled_10th', 'enrolled_10th_percent', 'lessthan_10th_enrolled', 'lessthan_10th_enrolled_percent', 'graduated', 'graduated_percent', 'enrolled_4yr', 'enrolled_4yr_percent', 'enrolled_2yr', 'enrolled_2yr_percent', 'total_enrolled', 'total_enrolled_percent', 'enrolled_wo_record', 'enrolled_wo_record_percent', 'total_degrees', 'total_degrees_percent']\n",
      "countyEthnicity.csv : ['Region Code', 'enrolled_8th', 'enrolled_9th', 'enrolled_9th_percent', 'enrolled_10th', 'enrolled_10th_percent', 'lessthan_10th_enrolled', 'lessthan_10th_enrolled_percent', 'graduated', 'graduated_percent', 'enrolled_4yr', 'enrolled_4yr_percent', 'enrolled_2yr', 'enrolled_2yr_percent', 'total_enrolled', 'total_enrolled_percent', 'enrolled_wo_record', 'enrolled_wo_record_percent', 'total_degrees', 'total_degrees_percent']\n",
      "countyEcon.csv : ['Region Code', 'enrolled_8th', 'enrolled_9th', 'enrolled_9th_percent', 'enrolled_10th', 'enrolled_10th_percent', 'lessthan_10th_enrolled', 'lessthan_10th_enrolled_percent', 'graduated', 'graduated_percent', 'enrolled_4yr', 'enrolled_4yr_percent', 'enrolled_2yr', 'enrolled_2yr_percent', 'total_enrolled', 'total_enrolled_percent', 'enrolled_wo_record', 'enrolled_wo_record_per', 'total_degrees', 'total_degrees_percent']\n",
      "Loop ended successfully!\n"
     ]
    }
   ],
   "source": [
    "print(\"Loop starting...\\nFILE | [COLUMNS] ... to edit\")\n",
    "\n",
    "\n",
    "for file in files:\n",
    "    path = \"./cohorts/\" + school_year + \"/\" + file\n",
    "    \n",
    "    if os.path.exists(path):\n",
    "        data = pd.read_csv(path)\n",
    "\n",
    "        # see if the data has any of the columns we're looking for\n",
    "        s = pd.Series(cols_list_asterisk).isin(data.columns)\n",
    "        indexes = list(s[s].index)\n",
    "        columns_to_edit = [cols_list_asterisk[i] for i in indexes]\n",
    "\n",
    "        print(file, \":\", columns_to_edit)\n",
    "        \n",
    "        # Goes through all of the columns we have to edit  \n",
    "        if len(columns_to_edit) > 0:\n",
    "            for column in columns_to_edit:\n",
    "                # if column is string, replaces * and nan with empty string\n",
    "                if is_string_dtype(data[column]):\n",
    "                    data[column] = data[column].apply(lambda x: str(x).replace(\"*\",'').replace(\"nan\",''))\n",
    "                # if column is integer, rounds the number to a whole number and turns NAs into null values\n",
    "                else:\n",
    "                    data[column] = data[column].astype(pd.Int64Dtype())\n",
    "            data.to_csv(path, index = False)\n",
    "\n",
    "print(\"Loop ended successfully!\")"
   ]
  },
  {
   "cell_type": "code",
   "execution_count": null,
   "id": "82b75715",
   "metadata": {},
   "outputs": [],
   "source": []
  }
 ],
 "metadata": {
  "kernelspec": {
   "display_name": "Python 3 (ipykernel)",
   "language": "python",
   "name": "python3"
  },
  "language_info": {
   "codemirror_mode": {
    "name": "ipython",
    "version": 3
   },
   "file_extension": ".py",
   "mimetype": "text/x-python",
   "name": "python",
   "nbconvert_exporter": "python",
   "pygments_lexer": "ipython3",
   "version": "3.9.6"
  }
 },
 "nbformat": 4,
 "nbformat_minor": 5
}
