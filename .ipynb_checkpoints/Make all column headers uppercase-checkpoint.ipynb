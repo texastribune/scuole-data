{
 "cells": [
  {
   "cell_type": "code",
   "execution_count": null,
   "id": "a3f559d0",
   "metadata": {},
   "outputs": [],
   "source": [
    "# import libraries you might need\n",
    "import pandas as pd\n",
    "import os.path"
   ]
  },
  {
   "cell_type": "code",
   "execution_count": null,
   "id": "38bf961c",
   "metadata": {},
   "outputs": [],
   "source": [
    "# set variables -- change years as needed\n",
    "\n",
    "school_year = '2021-2022'\n",
    "\n",
    "levels = [\n",
    "  \"campus\",\n",
    "  \"district\",\n",
    "  \"region\",\n",
    "  \"state\"\n",
    "]\n",
    "\n",
    "files = [\n",
    "  \"ap-ib-sat-act.csv\"\n",
    "]\n"
   ]
  },
  {
   "cell_type": "code",
   "execution_count": null,
   "id": "7047b79c",
   "metadata": {},
   "outputs": [],
   "source": [
    "print(\"Loop starting...\\nLEVEL | FILE | [COLUMNS] ... to edit\")\n",
    "\n",
    "for level in levels:\n",
    "  for file in files:\n",
    "\n",
    "    # set the data path    \n",
    "    path = \"./tapr/\" + school_year + \"/\" + level + \"/\" + file\n",
    "    \n",
    "    # check if the file exists and proceed only if it does\n",
    "    if os.path.exists(path):\n",
    "        data = pd.read_csv(path)\n",
    "        \n",
    "        data.columns = data.columns.str.lower()\n",
    "        \n",
    "        data.to_csv(path, index = False)\n",
    "\n",
    "print(\"Loop ended successfully!\")"
   ]
  }
 ],
 "metadata": {
  "kernelspec": {
   "display_name": "Python 3 (ipykernel)",
   "language": "python",
   "name": "python3"
  },
  "language_info": {
   "codemirror_mode": {
    "name": "ipython",
    "version": 3
   },
   "file_extension": ".py",
   "mimetype": "text/x-python",
   "name": "python",
   "nbconvert_exporter": "python",
   "pygments_lexer": "ipython3",
   "version": "3.9.6"
  }
 },
 "nbformat": 4,
 "nbformat_minor": 5
}
