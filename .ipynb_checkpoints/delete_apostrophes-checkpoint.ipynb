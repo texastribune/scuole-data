{
 "cells": [
  {
   "cell_type": "code",
   "execution_count": 1,
   "metadata": {},
   "outputs": [],
   "source": [
    "# import libraries you might need\n",
    "import pandas as pd\n",
    "import os.path"
   ]
  },
  {
   "cell_type": "code",
   "execution_count": 2,
   "metadata": {},
   "outputs": [],
   "source": [
    "# set variables -- change years as needed\n",
    "\n",
    "school_year = '2021-2022'\n",
    "\n",
    "levels = [\n",
    "  \"campus\",\n",
    "  \"district\",\n",
    "  \"region\",\n",
    "  \"state\"\n",
    "]\n",
    "\n",
    "files = [\n",
    "  \"accountability.csv\",\n",
    "  \"reference.csv\",\n",
    "  \"longitudinal-rate.csv\", \n",
    "  \"postsecondary-readiness-and-non-staar-performance-indicators.csv\",\n",
    "  \"staff-and-student-information.csv\",\n",
    "  \"attendance.csv\",\n",
    "  \"ap-ib-sat-act.csv\"\n",
    "]\n",
    "\n",
    "columns = [\n",
    "  \"DISTRICT\",\n",
    "  \"COUNTY\",\n",
    "  \"REGION\",\n",
    "  \"CAMPUS\"\n",
    "]"
   ]
  },
  {
   "cell_type": "code",
   "execution_count": 3,
   "metadata": {},
   "outputs": [
    {
     "name": "stdout",
     "output_type": "stream",
     "text": [
      "Loop starting...\n",
      "LEVEL | FILE | [COLUMNS] ... to edit\n",
      "campus ap-ib-sat-act.csv : ['DISTRICT', 'CAMPUS']\n",
      "district ap-ib-sat-act.csv : ['DISTRICT']\n",
      "region ap-ib-sat-act.csv : ['REGION']\n",
      "state ap-ib-sat-act.csv : []\n",
      "Loop ended successfully!\n"
     ]
    }
   ],
   "source": [
    "print(\"Loop starting...\\nLEVEL | FILE | [COLUMNS] ... to edit\")\n",
    "\n",
    "for level in levels:\n",
    "  for file in files:\n",
    "\n",
    "    # set the data path    \n",
    "    path = \"./tapr/\" + school_year + \"/\" + level + \"/\" + file\n",
    "    \n",
    "    # check if the file exists and proceed only if it does\n",
    "    if os.path.exists(path):\n",
    "        data = pd.read_csv(path)\n",
    "\n",
    "        # see if the data has 'DISTRICT', 'COUNTY' or 'REGION' column\n",
    "        s = pd.Series(columns).isin(data.columns)\n",
    "        indexes = list(s[s].index)\n",
    "        columns_to_edit = [columns[i] for i in indexes]\n",
    "\n",
    "        print(level, file, \":\", columns_to_edit)\n",
    "\n",
    "        # if the data has the column(s), get rid of the apostrophes\n",
    "        if len(columns_to_edit) > 0:\n",
    "            for column in columns_to_edit:\n",
    "              data[column] = data[column].apply(lambda x: str(x).replace(\"'\", ''))\n",
    "              data[column] = data[column].astype(str)\n",
    "              \n",
    "              # if the column is REGION, zfill 2\n",
    "              if column == 'REGION':\n",
    "                data[column] = data[column].apply(lambda x: str(x).zfill(2))\n",
    "\n",
    "            # update the data\n",
    "            data.to_csv(path, index = False)\n",
    "\n",
    "print(\"Loop ended successfully!\")"
   ]
  }
 ],
 "metadata": {
  "kernelspec": {
   "display_name": "Python 3 (ipykernel)",
   "language": "python",
   "name": "python3"
  },
  "language_info": {
   "codemirror_mode": {
    "name": "ipython",
    "version": 3
   },
   "file_extension": ".py",
   "mimetype": "text/x-python",
   "name": "python",
   "nbconvert_exporter": "python",
   "pygments_lexer": "ipython3",
   "version": "3.9.6"
  },
  "vscode": {
   "interpreter": {
    "hash": "dc1e2c700fb496221f94fb1345e6c752f11d6212efcd9921d7ad3291be61da80"
   }
  }
 },
 "nbformat": 4,
 "nbformat_minor": 2
}
