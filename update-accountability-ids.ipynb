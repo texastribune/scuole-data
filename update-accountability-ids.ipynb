{
 "cells": [
  {
   "cell_type": "code",
   "execution_count": 39,
   "metadata": {},
   "outputs": [],
   "source": [
    "import pandas as pd"
   ]
  },
  {
   "cell_type": "code",
   "execution_count": 40,
   "metadata": {},
   "outputs": [],
   "source": [
    "a_f_2020_21 = pd.read_csv('tapr/2020-2021/district/accountability.csv')\n",
    "# a_f_2020_21[a_f_2020_21['DISTRICT'] == \"'001902\"]\n",
    "a_f_2018_19 = pd.read_csv('tapr/2020-2021/district/accountability_2018-2019.csv')\n",
    "a_f_2018_19['DISTRICT'] = a_f_2018_19['DISTRICT'].apply(lambda x: str(x).zfill(6))\n",
    "a_f_2018_19.to_csv('tapr/2020-2021/district/accountability_2018-2019_formatted.csv', index=False)"
   ]
  },
  {
   "cell_type": "code",
   "execution_count": 32,
   "metadata": {},
   "outputs": [
    {
     "data": {
      "text/plain": [
       "[{'a': 3, 'b': 5}]"
      ]
     },
     "execution_count": 32,
     "metadata": {},
     "output_type": "execute_result"
    }
   ],
   "source": [
    "alist = [{'a': 3, 'b': 5}, {'a': 3, 'c': 5}]\n",
    "[x for x in alist if 'c' not in x]"
   ]
  },
  {
   "cell_type": "code",
   "execution_count": 41,
   "metadata": {},
   "outputs": [],
   "source": [
    "a_f_2018_19 = pd.read_csv('tapr/2020-2021/campus/accountability_2018-2019.csv')\n",
    "a_f_2018_19['CAMPUS'] = a_f_2018_19['CAMPUS'].apply(lambda x: str(x).zfill(9))\n",
    "a_f_2018_19.to_csv('tapr/2020-2021/campus/accountability_2018-2019_formatted.csv', index=False)"
   ]
  },
  {
   "cell_type": "code",
   "execution_count": null,
   "metadata": {},
   "outputs": [],
   "source": []
  }
 ],
 "metadata": {
  "kernelspec": {
   "display_name": "Python 3",
   "language": "python",
   "name": "python3"
  },
  "language_info": {
   "codemirror_mode": {
    "name": "ipython",
    "version": 3
   },
   "file_extension": ".py",
   "mimetype": "text/x-python",
   "name": "python",
   "nbconvert_exporter": "python",
   "pygments_lexer": "ipython3",
   "version": "3.7.9"
  }
 },
 "nbformat": 4,
 "nbformat_minor": 2
}
