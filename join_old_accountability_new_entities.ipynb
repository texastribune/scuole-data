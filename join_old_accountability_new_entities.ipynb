{
 "cells": [
  {
   "cell_type": "markdown",
   "metadata": {},
   "source": [
    "A-F scores were not released for the 2019-20 school year — all campuses and districts were rated \"Not Rated: Declared State of Disaster.\" As a result, we chose to load the latest year's A-F scores from 2018-19.\n",
    "\n",
    "To do this, we joined the new entities to the older A-F scores and loaded that in."
   ]
  },
  {
   "cell_type": "code",
   "execution_count": null,
   "metadata": {},
   "outputs": [],
   "source": [
    "# import libraries you might need\n",
    "import pandas as pd;\n",
    "import numpy as np;\n",
    "import math;\n",
    "import re; # regex"
   ]
  },
  {
   "cell_type": "code",
   "execution_count": 1,
   "metadata": {},
   "outputs": [
    {
     "ename": "NameError",
     "evalue": "name 'pd' is not defined",
     "output_type": "error",
     "traceback": [
      "\u001b[0;31m---------------------------------------------------------------------------\u001b[0m",
      "\u001b[0;31mNameError\u001b[0m                                 Traceback (most recent call last)",
      "\u001b[0;32m<ipython-input-1-4b0c5449f407>\u001b[0m in \u001b[0;36m<module>\u001b[0;34m\u001b[0m\n\u001b[1;32m      1\u001b[0m \u001b[0;31m# load in files\u001b[0m\u001b[0;34m\u001b[0m\u001b[0;34m\u001b[0m\u001b[0;34m\u001b[0m\u001b[0m\n\u001b[0;32m----> 2\u001b[0;31m \u001b[0maccountability_district_18_19\u001b[0m \u001b[0;34m=\u001b[0m \u001b[0mpd\u001b[0m\u001b[0;34m.\u001b[0m\u001b[0mread_csv\u001b[0m\u001b[0;34m(\u001b[0m\u001b[0;34m'accountability_district_18_19.csv'\u001b[0m\u001b[0;34m)\u001b[0m\u001b[0;34m\u001b[0m\u001b[0;34m\u001b[0m\u001b[0m\n\u001b[0m\u001b[1;32m      3\u001b[0m \u001b[0mentities_district_19_20\u001b[0m \u001b[0;34m=\u001b[0m \u001b[0mpd\u001b[0m\u001b[0;34m.\u001b[0m\u001b[0mread_csv\u001b[0m\u001b[0;34m(\u001b[0m\u001b[0;34m'entities_district_19_20.csv'\u001b[0m\u001b[0;34m)\u001b[0m\u001b[0;34m\u001b[0m\u001b[0;34m\u001b[0m\u001b[0m\n\u001b[1;32m      4\u001b[0m \u001b[0;34m\u001b[0m\u001b[0m\n\u001b[1;32m      5\u001b[0m \u001b[0;31m# select columns from accountability data, we want 4 ratings\u001b[0m\u001b[0;34m\u001b[0m\u001b[0;34m\u001b[0m\u001b[0;34m\u001b[0m\u001b[0m\n",
      "\u001b[0;31mNameError\u001b[0m: name 'pd' is not defined"
     ]
    }
   ],
   "source": [
    "# load in files\n",
    "accountability_district_18_19 = pd.read_csv('accountability_district_18_19.csv')\n",
    "entities_district_19_20 = pd.read_csv('entities_district_19_20.csv')\n",
    "\n",
    "# select columns from accountability data, we want 4 ratings\n",
    "accountability_district_18_19_selected = accountability_district_18_19[['DISTRICT', 'DD1G', 'DD2G', 'DD3G', 'D_RATING']]\n",
    "\n",
    "# merge current entities with old accountability ratings\n",
    "merged = entities_district_19_20.drop(columns=['D_RATING']).merge(accountability_district_18_19_selected, on='DISTRICT', how=\"outer\")\n",
    "\n",
    "# add a Not Rated for any new entities that didn't exist in 18-19\n",
    "merged['DD1G'] = merged['DD1G'].apply(lambda x: 'Not Rated' if pd.isnull(x) else x)\n",
    "merged['DD2G'] = merged['DD2G'].apply(lambda x: 'Not Rated' if pd.isnull(x) else x)\n",
    "merged['DD3G'] = merged['DD3G'].apply(lambda x: 'Not Rated' if pd.isnull(x) else x)\n",
    "merged['D_RATING'] = merged['D_RATING'].apply(lambda x: 'Not Rated' if pd.isnull(x) else x)\n",
    "\n",
    "# fill in zeros for ID\n",
    "merged['DISTRICT'] = merged['DISTRICT'].apply(lambda x: str(x).zfill(6))\n",
    "\n",
    "# drop any entities that disappeared in 19-20 from 18-19\n",
    "merged = merged[~pd.isnull(merged['DISTNAME'])]\n",
    "\n",
    "# write to CSV\n",
    "merged.to_csv('accountability_district.csv', index=False)"
   ]
  },
  {
   "cell_type": "code",
   "execution_count": null,
   "metadata": {},
   "outputs": [],
   "source": [
    "accountability_campus_18_19 = pd.read_csv('accountability_campus_18_19.csv')\n",
    "entities_campus_19_20 = pd.read_csv('entities_campus_19_20.csv')\n",
    "\n",
    "accountability_campus_18_19_selected = accountability_campus_18_19[['CAMPUS', 'CD1G', 'CD2G', 'CD3G', 'C_RATING']]\n",
    "merged = entities_campus_19_20.drop(columns=['C_RATING']).merge(accountability_campus_18_19_selected, on='CAMPUS', how=\"outer\")\n",
    "\n",
    "merged['CD1G'] = merged['CD1G'].apply(lambda x: 'Not Rated' if pd.isnull(x) else x)\n",
    "merged['CD2G'] = merged['CD2G'].apply(lambda x: 'Not Rated' if pd.isnull(x) else x)\n",
    "merged['CD3G'] = merged['CD3G'].apply(lambda x: 'Not Rated' if pd.isnull(x) else x)\n",
    "merged['C_RATING'] = merged['C_RATING'].apply(lambda x: 'Not Rated' if pd.isnull(x) else x)\n",
    "\n",
    "merged['CAMPUS'] = merged['CAMPUS'].apply(lambda x: str(x).zfill(9))\n",
    "\n",
    "merged = merged[~pd.isnull(merged['CAMPNAME'])]\n",
    "\n",
    "merged.to_csv('accountability_campus.csv', index=False)"
   ]
  }
 ],
 "metadata": {
  "kernelspec": {
   "display_name": "Python 3",
   "language": "python",
   "name": "python3"
  },
  "language_info": {
   "codemirror_mode": {
    "name": "ipython",
    "version": 3
   },
   "file_extension": ".py",
   "mimetype": "text/x-python",
   "name": "python",
   "nbconvert_exporter": "python",
   "pygments_lexer": "ipython3",
   "version": "3.7.9"
  }
 },
 "nbformat": 4,
 "nbformat_minor": 2
}
